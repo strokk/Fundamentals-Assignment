{
 "cells": [
  {
   "cell_type": "markdown",
   "metadata": {},
   "source": [
    "# Analysis of Anscombe’s quartet dataset by Guilherme Paes"
   ]
  },
  {
   "cell_type": "markdown",
   "metadata": {},
   "source": [
    "### Introduction to Anscombe's quartet dataset\n",
    "\n",
    "Francis Anscombe's quartet comprises four datasets that have nearly identical simple descriptive statistics, but when plotted, they seem to be very different. Each dataset consists of eleven (x,y) points. They were constructed in 1973 by the statistician Francis Anscombe to demonstrate both the importance of graphing data before analyzing it and the effect of outliers on statistical properties. He described the article as being intended to counter the impression among statisticians that \"numerical calculations are exact, but graphs are rough.\""
   ]
  },
  {
   "cell_type": "markdown",
   "metadata": {},
   "source": [
    "### Who is Francis Anscombe\n",
    "\n",
    "<p align=\"center\"><img src=\"https://upload.wikimedia.org/wikipedia/en/d/d5/Francis_Anscombe.jpeg\" width=200px></p><br>\n",
    "\n",
    "Francis John Anscombe was an statistician born in 1918 in Hove, England, he studied at Trinity College at Cambridge University. He was elected as a Fellow of the American Statistical Association and became the founding chairman of the statistics department at Yale University in 1963.\n",
    "Anscombe's best work is his account of formal properties of residuals in linear regression.\n",
    "He was also very interested in statistical computing and affirmed that \"a computer should make both calculations and graphs\" and he ilustrated this on his four datasets known as Anscombe's quartet, which is the main topic of this study.\n",
    "In some experiments, Anscombe emphasized randomization in both the design and analysis phases. In the design phase, Anscombe argued that the experimenters should randomize the labels of blocks. In the analysis phase, Anscombe argued that the randomization plan should guide the analysis of data."
   ]
  },
  {
   "cell_type": "markdown",
   "metadata": {},
   "source": [
    "## The dataset\n",
    "\n",
    "<p align=\"center\"><img src=\"http://ashling.dbsdataprojects.com/wp-content/uploads/sites/73/2016/04/T1.1.png\" width=600px></p><br>\n"
   ]
  },
  {
   "cell_type": "code",
   "execution_count": 27,
   "metadata": {},
   "outputs": [
    {
     "data": {
      "image/png": "[encoded data removed]",
      "text/plain": [
       "<Figure size 432x288 with 1 Axes>"
      ]
     },
     "metadata": {},
     "output_type": "display_data"
    },
    {
     "data": {
      "image/png": "[encoded data removed]",
      "text/plain": [
       "<Figure size 432x288 with 1 Axes>"
      ]
     },
     "metadata": {},
     "output_type": "display_data"
    },
    {
     "data": {
      "image/png": "[encoded data removed]",
      "text/plain": [
       "<Figure size 432x288 with 1 Axes>"
      ]
     },
     "metadata": {},
     "output_type": "display_data"
    },
    {
     "data": {
      "image/png": "[encoded data removed]",
      "text/plain": [
       "<Figure size 432x288 with 1 Axes>"
      ]
     },
     "metadata": {},
     "output_type": "display_data"
    }
   ],
   "source": [
    "#Plot analysis\n",
    "\n",
    "import matplotlib.pyplot as plt\n",
    "\n",
    "\n",
    "x1 = [10.0,8.0,13.0,9.0,11.0,14.0,6.0,4.0,12.0,7.0,5.0]\n",
    "y1 = [8.04,6.95,7.58,8.81,8.33,9.96,7.24,4.26,10.84,4.82,5.68]\n",
    "\n",
    "x2 = [10.0,8.0,13.0,9.0,11.0,14.0,6.0,4.0,12.0,7.0,5.0]\n",
    "y2 = [9.14,8.14,8.74,8.77,9.26,8.10,6.13,3.10,9.13,7.26,4.74]\n",
    "\n",
    "x3 = [10.0,8.0,13.0,9.0,11.0,14.0,6.0,4.0,12.0,7.0,5.0]\n",
    "y3 = [7.46,6.77,12.74,7.11,7.81,8.84,6.08,5.39,8.15,6.42,5.73]\n",
    "\n",
    "x4 = [8.0,8.0,8.0,8.0,8.0,8.0,8.0,19.0,8.0,8.0,8.0]\n",
    "y4 = [6.58,5.76,7.71,8.84,8.47,7.04,5.25,12.50,5.56,7.91,6.89]\n",
    "\n",
    "\n",
    "plt.plot(x1, y1, 'b.')\n",
    "plt.title('I')  \n",
    "plt.xlabel('X1') \n",
    "plt.ylabel('Y1')\n",
    "plt.show()\n",
    "\n",
    "plt.plot(x2, y2, 'b.')\n",
    "plt.title('II')  \n",
    "plt.xlabel('X2') \n",
    "plt.ylabel('Y2')\n",
    "plt.show()\n",
    "\n",
    "plt.plot(x3, y3, 'b.')\n",
    "plt.title('III')\n",
    "plt.xlabel('X3') \n",
    "plt.ylabel('Y3')\n",
    "plt.show()\n",
    "\n",
    "plt.plot(x4, y4, 'b.')\n",
    "plt.title('IV')\n",
    "plt.xlabel('X4') \n",
    "plt.ylabel('Y4')\n",
    "plt.show()"
   ]
  },
  {
   "cell_type": "code",
   "execution_count": 29,
   "metadata": {},
   "outputs": [
    {
     "name": "stdout",
     "output_type": "stream",
     "text": [
      "This is the mean value for each column: \n",
      " Observation    6.000000\n",
      "x1             9.000000\n",
      "y1             7.500909\n",
      "x2             9.000000\n",
      "y2             7.500909\n",
      "x3             9.000000\n",
      "y3             7.500000\n",
      "x4             9.000000\n",
      "y4             7.500909\n",
      "dtype: float64\n"
     ]
    }
   ],
   "source": [
    "import pandas as pd\n",
    "import numpy as np\n",
    "df = pd.read_csv(\"anscombe.csv\")\n",
    "df\n",
    "\n",
    "print(\"This is the mean value for each column: \\n\", np.mean(df))"
   ]
  },
  {
   "cell_type": "code",
   "execution_count": 1,
   "metadata": {},
   "outputs": [
    {
     "name": "stdout",
     "output_type": "stream",
     "text": [
      "This is the mean value for each column: \n",
      " x1    9.000000\n",
      "y1    7.500909\n",
      "x2    9.000000\n",
      "y2    7.500909\n",
      "x3    9.000000\n",
      "y3    7.500000\n",
      "x4    9.000000\n",
      "y4    7.500909\n",
      "dtype: float64\n"
     ]
    }
   ],
   "source": [
    "import pandas as pd\n",
    "import numpy as np\n",
    "df = pd.read_csv(\"anscombe.csv\", names = [\"Sepal Length\", \"Sepal Width\", \"Petal Length\", \"Petal Width\", \"Class\"])\n",
    "df\n",
    "\n",
    "print(\"This is the mean value for each column: \\n\", np.mean(df))"
   ]
  },
  {
   "cell_type": "code",
   "execution_count": null,
   "metadata": {},
   "outputs": [],
   "source": []
  },
  {
   "cell_type": "code",
   "execution_count": null,
   "metadata": {},
   "outputs": [],
   "source": []
  },
  {
   "cell_type": "code",
   "execution_count": null,
   "metadata": {},
   "outputs": [],
   "source": []
  },
  {
   "cell_type": "code",
   "execution_count": null,
   "metadata": {},
   "outputs": [],
   "source": []
  }
 ],
 "metadata": {
  "kernelspec": {
   "display_name": "Python 3",
   "language": "python",
   "name": "python3"
  },
  "language_info": {
   "codemirror_mode": {
    "name": "ipython",
    "version": 3
   },
   "file_extension": ".py",
   "mimetype": "text/x-python",
   "name": "python",
   "nbconvert_exporter": "python",
   "pygments_lexer": "ipython3",
   "version": "3.6.5"
  }
 },
 "nbformat": 4,
 "nbformat_minor": 2
}
